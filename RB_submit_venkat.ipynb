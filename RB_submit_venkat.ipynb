{
 "cells": [
  {
   "cell_type": "code",
   "execution_count": 134,
   "metadata": {},
   "outputs": [],
   "source": [
    "#Author: Venkat\n",
    "#Description: Robinhood assignment\n",
    "#Date: 07/03\n",
    "\n",
    "import pandas as pd\n",
    "import numpy as np\n",
    "from sklearn.model_selection import train_test_split\n",
    "from sklearn.pipeline import Pipeline\n",
    "from sklearn.preprocessing import StandardScaler, OneHotEncoder, MinMaxScaler\n",
    "from sklearn.compose import ColumnTransformer\n",
    "from sklearn.linear_model import LogisticRegression\n",
    "from sklearn.metrics import confusion_matrix\n",
    "from sklearn.feature_extraction.text import _VectorizerMixin\n",
    "from sklearn.feature_selection._base import SelectorMixin\n",
    "from xgboost import XGBClassifier\n",
    "from sklearn import metrics\n",
    "from sklearn.utils import resample\n",
    "from xgboost import plot_importance\n",
    "from matplotlib import pyplot\n",
    "\n",
    "def read_files(path):\n",
    "    return pd.read_csv(path)\n"
   ]
  },
  {
   "cell_type": "code",
   "execution_count": 135,
   "metadata": {},
   "outputs": [],
   "source": [
    "features_data = read_files('/Users/vnk/Downloads/features_data.csv')                      \n",
    "equity_value_data = read_files('/Users/vnk/Downloads/equity_value_data.csv')"
   ]
  },
  {
   "cell_type": "code",
   "execution_count": 136,
   "metadata": {},
   "outputs": [
    {
     "data": {
      "text/html": [
       "<div>\n",
       "<style scoped>\n",
       "    .dataframe tbody tr th:only-of-type {\n",
       "        vertical-align: middle;\n",
       "    }\n",
       "\n",
       "    .dataframe tbody tr th {\n",
       "        vertical-align: top;\n",
       "    }\n",
       "\n",
       "    .dataframe thead th {\n",
       "        text-align: right;\n",
       "    }\n",
       "</style>\n",
       "<table border=\"1\" class=\"dataframe\">\n",
       "  <thead>\n",
       "    <tr style=\"text-align: right;\">\n",
       "      <th></th>\n",
       "      <th>timestamp</th>\n",
       "      <th>close_equity</th>\n",
       "      <th>user_id</th>\n",
       "    </tr>\n",
       "  </thead>\n",
       "  <tbody>\n",
       "    <tr>\n",
       "      <th>0</th>\n",
       "      <td>2016-11-16T00:00:00Z</td>\n",
       "      <td>48.16</td>\n",
       "      <td>bcef4fa9b0bdf22bcf7deae708decf03</td>\n",
       "    </tr>\n",
       "    <tr>\n",
       "      <th>1</th>\n",
       "      <td>2016-11-17T00:00:00Z</td>\n",
       "      <td>48.16</td>\n",
       "      <td>bcef4fa9b0bdf22bcf7deae708decf03</td>\n",
       "    </tr>\n",
       "    <tr>\n",
       "      <th>2</th>\n",
       "      <td>2016-11-18T00:00:00Z</td>\n",
       "      <td>48.16</td>\n",
       "      <td>bcef4fa9b0bdf22bcf7deae708decf03</td>\n",
       "    </tr>\n",
       "    <tr>\n",
       "      <th>3</th>\n",
       "      <td>2016-11-21T00:00:00Z</td>\n",
       "      <td>48.16</td>\n",
       "      <td>bcef4fa9b0bdf22bcf7deae708decf03</td>\n",
       "    </tr>\n",
       "    <tr>\n",
       "      <th>4</th>\n",
       "      <td>2016-11-22T00:00:00Z</td>\n",
       "      <td>48.16</td>\n",
       "      <td>bcef4fa9b0bdf22bcf7deae708decf03</td>\n",
       "    </tr>\n",
       "    <tr>\n",
       "      <th>...</th>\n",
       "      <td>...</td>\n",
       "      <td>...</td>\n",
       "      <td>...</td>\n",
       "    </tr>\n",
       "    <tr>\n",
       "      <th>1119153</th>\n",
       "      <td>2017-08-14T00:00:00Z</td>\n",
       "      <td>2270.71</td>\n",
       "      <td>98580360c4fb5b0ec511cd87f0d429ed</td>\n",
       "    </tr>\n",
       "    <tr>\n",
       "      <th>1119154</th>\n",
       "      <td>2017-08-15T00:00:00Z</td>\n",
       "      <td>2275.02</td>\n",
       "      <td>98580360c4fb5b0ec511cd87f0d429ed</td>\n",
       "    </tr>\n",
       "    <tr>\n",
       "      <th>1119155</th>\n",
       "      <td>2017-08-16T00:00:00Z</td>\n",
       "      <td>2282.03</td>\n",
       "      <td>98580360c4fb5b0ec511cd87f0d429ed</td>\n",
       "    </tr>\n",
       "    <tr>\n",
       "      <th>1119156</th>\n",
       "      <td>2017-08-17T00:00:00Z</td>\n",
       "      <td>2237.45</td>\n",
       "      <td>98580360c4fb5b0ec511cd87f0d429ed</td>\n",
       "    </tr>\n",
       "    <tr>\n",
       "      <th>1119157</th>\n",
       "      <td>2017-08-18T00:00:00Z</td>\n",
       "      <td>2227.35</td>\n",
       "      <td>98580360c4fb5b0ec511cd87f0d429ed</td>\n",
       "    </tr>\n",
       "  </tbody>\n",
       "</table>\n",
       "<p>1119158 rows × 3 columns</p>\n",
       "</div>"
      ],
      "text/plain": [
       "                    timestamp  close_equity                           user_id\n",
       "0        2016-11-16T00:00:00Z         48.16  bcef4fa9b0bdf22bcf7deae708decf03\n",
       "1        2016-11-17T00:00:00Z         48.16  bcef4fa9b0bdf22bcf7deae708decf03\n",
       "2        2016-11-18T00:00:00Z         48.16  bcef4fa9b0bdf22bcf7deae708decf03\n",
       "3        2016-11-21T00:00:00Z         48.16  bcef4fa9b0bdf22bcf7deae708decf03\n",
       "4        2016-11-22T00:00:00Z         48.16  bcef4fa9b0bdf22bcf7deae708decf03\n",
       "...                       ...           ...                               ...\n",
       "1119153  2017-08-14T00:00:00Z       2270.71  98580360c4fb5b0ec511cd87f0d429ed\n",
       "1119154  2017-08-15T00:00:00Z       2275.02  98580360c4fb5b0ec511cd87f0d429ed\n",
       "1119155  2017-08-16T00:00:00Z       2282.03  98580360c4fb5b0ec511cd87f0d429ed\n",
       "1119156  2017-08-17T00:00:00Z       2237.45  98580360c4fb5b0ec511cd87f0d429ed\n",
       "1119157  2017-08-18T00:00:00Z       2227.35  98580360c4fb5b0ec511cd87f0d429ed\n",
       "\n",
       "[1119158 rows x 3 columns]"
      ]
     },
     "execution_count": 136,
     "metadata": {},
     "output_type": "execute_result"
    }
   ],
   "source": [
    "equity_value_data"
   ]
  },
  {
   "cell_type": "code",
   "execution_count": 137,
   "metadata": {},
   "outputs": [
    {
     "data": {
      "text/html": [
       "<div>\n",
       "<style scoped>\n",
       "    .dataframe tbody tr th:only-of-type {\n",
       "        vertical-align: middle;\n",
       "    }\n",
       "\n",
       "    .dataframe tbody tr th {\n",
       "        vertical-align: top;\n",
       "    }\n",
       "\n",
       "    .dataframe thead th {\n",
       "        text-align: right;\n",
       "    }\n",
       "</style>\n",
       "<table border=\"1\" class=\"dataframe\">\n",
       "  <thead>\n",
       "    <tr style=\"text-align: right;\">\n",
       "      <th></th>\n",
       "      <th>risk_tolerance</th>\n",
       "      <th>investment_experience</th>\n",
       "      <th>liquidity_needs</th>\n",
       "      <th>platform</th>\n",
       "      <th>time_spent</th>\n",
       "      <th>instrument_type_first_traded</th>\n",
       "      <th>first_deposit_amount</th>\n",
       "      <th>time_horizon</th>\n",
       "      <th>user_id</th>\n",
       "    </tr>\n",
       "  </thead>\n",
       "  <tbody>\n",
       "    <tr>\n",
       "      <th>0</th>\n",
       "      <td>high_risk_tolerance</td>\n",
       "      <td>limited_investment_exp</td>\n",
       "      <td>very_important_liq_need</td>\n",
       "      <td>Android</td>\n",
       "      <td>33.129417</td>\n",
       "      <td>stock</td>\n",
       "      <td>40.0</td>\n",
       "      <td>med_time_horizon</td>\n",
       "      <td>895044c23edc821881e87da749c01034</td>\n",
       "    </tr>\n",
       "    <tr>\n",
       "      <th>1</th>\n",
       "      <td>med_risk_tolerance</td>\n",
       "      <td>limited_investment_exp</td>\n",
       "      <td>very_important_liq_need</td>\n",
       "      <td>Android</td>\n",
       "      <td>16.573517</td>\n",
       "      <td>stock</td>\n",
       "      <td>200.0</td>\n",
       "      <td>short_time_horizon</td>\n",
       "      <td>458b1d95441ced242949deefe8e4b638</td>\n",
       "    </tr>\n",
       "    <tr>\n",
       "      <th>2</th>\n",
       "      <td>med_risk_tolerance</td>\n",
       "      <td>limited_investment_exp</td>\n",
       "      <td>very_important_liq_need</td>\n",
       "      <td>iOS</td>\n",
       "      <td>10.008367</td>\n",
       "      <td>stock</td>\n",
       "      <td>25.0</td>\n",
       "      <td>long_time_horizon</td>\n",
       "      <td>c7936f653d293479e034865db9bb932f</td>\n",
       "    </tr>\n",
       "    <tr>\n",
       "      <th>3</th>\n",
       "      <td>med_risk_tolerance</td>\n",
       "      <td>limited_investment_exp</td>\n",
       "      <td>very_important_liq_need</td>\n",
       "      <td>Android</td>\n",
       "      <td>1.031633</td>\n",
       "      <td>stock</td>\n",
       "      <td>100.0</td>\n",
       "      <td>short_time_horizon</td>\n",
       "      <td>b255d4bd6c9ba194d3a350b3e76c6393</td>\n",
       "    </tr>\n",
       "    <tr>\n",
       "      <th>4</th>\n",
       "      <td>high_risk_tolerance</td>\n",
       "      <td>limited_investment_exp</td>\n",
       "      <td>very_important_liq_need</td>\n",
       "      <td>Android</td>\n",
       "      <td>8.187250</td>\n",
       "      <td>stock</td>\n",
       "      <td>20.0</td>\n",
       "      <td>long_time_horizon</td>\n",
       "      <td>4a168225e89375b8de605cbc0977ae91</td>\n",
       "    </tr>\n",
       "    <tr>\n",
       "      <th>...</th>\n",
       "      <td>...</td>\n",
       "      <td>...</td>\n",
       "      <td>...</td>\n",
       "      <td>...</td>\n",
       "      <td>...</td>\n",
       "      <td>...</td>\n",
       "      <td>...</td>\n",
       "      <td>...</td>\n",
       "      <td>...</td>\n",
       "    </tr>\n",
       "    <tr>\n",
       "      <th>5579</th>\n",
       "      <td>high_risk_tolerance</td>\n",
       "      <td>limited_investment_exp</td>\n",
       "      <td>very_important_liq_need</td>\n",
       "      <td>Android</td>\n",
       "      <td>8.339283</td>\n",
       "      <td>stock</td>\n",
       "      <td>300.0</td>\n",
       "      <td>long_time_horizon</td>\n",
       "      <td>03880c726d8a4e5db006afe4119ad974</td>\n",
       "    </tr>\n",
       "    <tr>\n",
       "      <th>5580</th>\n",
       "      <td>med_risk_tolerance</td>\n",
       "      <td>limited_investment_exp</td>\n",
       "      <td>somewhat_important_liq_need</td>\n",
       "      <td>iOS</td>\n",
       "      <td>7.241383</td>\n",
       "      <td>stock</td>\n",
       "      <td>100.0</td>\n",
       "      <td>short_time_horizon</td>\n",
       "      <td>ae8315109657f44852b24c6bca4decd6</td>\n",
       "    </tr>\n",
       "    <tr>\n",
       "      <th>5581</th>\n",
       "      <td>med_risk_tolerance</td>\n",
       "      <td>no_investment_exp</td>\n",
       "      <td>very_important_liq_need</td>\n",
       "      <td>both</td>\n",
       "      <td>22.967167</td>\n",
       "      <td>stock</td>\n",
       "      <td>50.0</td>\n",
       "      <td>short_time_horizon</td>\n",
       "      <td>f29c174989f9737058fe808fcf264135</td>\n",
       "    </tr>\n",
       "    <tr>\n",
       "      <th>5582</th>\n",
       "      <td>med_risk_tolerance</td>\n",
       "      <td>limited_investment_exp</td>\n",
       "      <td>somewhat_important_liq_need</td>\n",
       "      <td>iOS</td>\n",
       "      <td>10.338417</td>\n",
       "      <td>stock</td>\n",
       "      <td>100.0</td>\n",
       "      <td>long_time_horizon</td>\n",
       "      <td>24843497d1de88b2e7233f694436cb3a</td>\n",
       "    </tr>\n",
       "    <tr>\n",
       "      <th>5583</th>\n",
       "      <td>high_risk_tolerance</td>\n",
       "      <td>limited_investment_exp</td>\n",
       "      <td>somewhat_important_liq_need</td>\n",
       "      <td>iOS</td>\n",
       "      <td>18.470950</td>\n",
       "      <td>stock</td>\n",
       "      <td>50.0</td>\n",
       "      <td>long_time_horizon</td>\n",
       "      <td>49ee0531ee9dfbce0e7d9afa1c3d86f4</td>\n",
       "    </tr>\n",
       "  </tbody>\n",
       "</table>\n",
       "<p>5584 rows × 9 columns</p>\n",
       "</div>"
      ],
      "text/plain": [
       "           risk_tolerance   investment_experience  \\\n",
       "0     high_risk_tolerance  limited_investment_exp   \n",
       "1      med_risk_tolerance  limited_investment_exp   \n",
       "2      med_risk_tolerance  limited_investment_exp   \n",
       "3      med_risk_tolerance  limited_investment_exp   \n",
       "4     high_risk_tolerance  limited_investment_exp   \n",
       "...                   ...                     ...   \n",
       "5579  high_risk_tolerance  limited_investment_exp   \n",
       "5580   med_risk_tolerance  limited_investment_exp   \n",
       "5581   med_risk_tolerance       no_investment_exp   \n",
       "5582   med_risk_tolerance  limited_investment_exp   \n",
       "5583  high_risk_tolerance  limited_investment_exp   \n",
       "\n",
       "                  liquidity_needs platform  time_spent  \\\n",
       "0         very_important_liq_need  Android   33.129417   \n",
       "1         very_important_liq_need  Android   16.573517   \n",
       "2         very_important_liq_need      iOS   10.008367   \n",
       "3         very_important_liq_need  Android    1.031633   \n",
       "4         very_important_liq_need  Android    8.187250   \n",
       "...                           ...      ...         ...   \n",
       "5579      very_important_liq_need  Android    8.339283   \n",
       "5580  somewhat_important_liq_need      iOS    7.241383   \n",
       "5581      very_important_liq_need     both   22.967167   \n",
       "5582  somewhat_important_liq_need      iOS   10.338417   \n",
       "5583  somewhat_important_liq_need      iOS   18.470950   \n",
       "\n",
       "     instrument_type_first_traded  first_deposit_amount        time_horizon  \\\n",
       "0                           stock                  40.0    med_time_horizon   \n",
       "1                           stock                 200.0  short_time_horizon   \n",
       "2                           stock                  25.0   long_time_horizon   \n",
       "3                           stock                 100.0  short_time_horizon   \n",
       "4                           stock                  20.0   long_time_horizon   \n",
       "...                           ...                   ...                 ...   \n",
       "5579                        stock                 300.0   long_time_horizon   \n",
       "5580                        stock                 100.0  short_time_horizon   \n",
       "5581                        stock                  50.0  short_time_horizon   \n",
       "5582                        stock                 100.0   long_time_horizon   \n",
       "5583                        stock                  50.0   long_time_horizon   \n",
       "\n",
       "                               user_id  \n",
       "0     895044c23edc821881e87da749c01034  \n",
       "1     458b1d95441ced242949deefe8e4b638  \n",
       "2     c7936f653d293479e034865db9bb932f  \n",
       "3     b255d4bd6c9ba194d3a350b3e76c6393  \n",
       "4     4a168225e89375b8de605cbc0977ae91  \n",
       "...                                ...  \n",
       "5579  03880c726d8a4e5db006afe4119ad974  \n",
       "5580  ae8315109657f44852b24c6bca4decd6  \n",
       "5581  f29c174989f9737058fe808fcf264135  \n",
       "5582  24843497d1de88b2e7233f694436cb3a  \n",
       "5583  49ee0531ee9dfbce0e7d9afa1c3d86f4  \n",
       "\n",
       "[5584 rows x 9 columns]"
      ]
     },
     "execution_count": 137,
     "metadata": {},
     "output_type": "execute_result"
    }
   ],
   "source": [
    "features_data"
   ]
  },
  {
   "cell_type": "markdown",
   "metadata": {},
   "source": [
    "## a) What percentage of users have churned in the data provided?"
   ]
  },
  {
   "cell_type": "code",
   "execution_count": 138,
   "metadata": {},
   "outputs": [
    {
     "name": "stdout",
     "output_type": "stream",
     "text": [
      "Total numbers of users: 5584\n"
     ]
    }
   ],
   "source": [
    "total_users = features_data['user_id'].nunique()\n",
    "print(\"Total numbers of users:\", total_users)"
   ]
  },
  {
   "cell_type": "markdown",
   "metadata": {},
   "source": [
    "### since equity_value_data contains data of users for days when the equity is >=10, I calculated the difference between the dates and if the difference is greater than 28 then the user is counted as a churn user. (Going by the definition of churn (having <10 balance for 28 calendar days)"
   ]
  },
  {
   "cell_type": "code",
   "execution_count": 139,
   "metadata": {},
   "outputs": [],
   "source": [
    "equity_value_data['date'] = pd.to_datetime(equity_value_data['timestamp'])\n",
    "equity_value_data['date'] = equity_value_data.groupby('user_id')['date'].apply(lambda x: x.sort_values())\n",
    "equity_value_data['diff'] = equity_value_data.groupby('user_id')['date'].diff() / np.timedelta64(1, 'D')\n",
    "equity_value_data['diff'] = equity_value_data['diff'].fillna(0)"
   ]
  },
  {
   "cell_type": "code",
   "execution_count": 140,
   "metadata": {},
   "outputs": [
    {
     "name": "stdout",
     "output_type": "stream",
     "text": [
      "Total numbers of churn users: 275\n",
      "Churn percentage: 4.92%\n"
     ]
    }
   ],
   "source": [
    "churn_users = equity_value_data[equity_value_data['diff'] > 28]['user_id'].nunique()\n",
    "print(\"Total numbers of churn users:\", churn_users)\n",
    "print(\"Churn percentage: {}%\".format(round(churn_users*100/total_users,2)))"
   ]
  },
  {
   "cell_type": "markdown",
   "metadata": {},
   "source": [
    "### Assumption: I have also notices some users had diff >28 but then has added equity and came back to the platform and reduced the diff to <28. I counted these people also as churn since the behavour is exhibited once."
   ]
  },
  {
   "cell_type": "markdown",
   "metadata": {},
   "source": [
    "## b) Churn Classifier"
   ]
  },
  {
   "cell_type": "code",
   "execution_count": 141,
   "metadata": {},
   "outputs": [],
   "source": [
    "churn_user_ids = equity_value_data[equity_value_data['diff'] > 28]['user_id'].unique()\n",
    "features_data.loc[features_data['user_id'].isin(churn_user_ids), 'churn_label'] = 1\n",
    "features_data['churn_label'].fillna(0,inplace=True)"
   ]
  },
  {
   "cell_type": "code",
   "execution_count": 142,
   "metadata": {},
   "outputs": [
    {
     "data": {
      "text/plain": [
       "0.0    5309\n",
       "1.0     275\n",
       "Name: churn_label, dtype: int64"
      ]
     },
     "execution_count": 142,
     "metadata": {},
     "output_type": "execute_result"
    }
   ],
   "source": [
    "features_data['churn_label'].value_counts()"
   ]
  },
  {
   "cell_type": "code",
   "execution_count": 143,
   "metadata": {},
   "outputs": [
    {
     "data": {
      "text/plain": [
       "0.0    5309\n",
       "1.0    5309\n",
       "Name: churn_label, dtype: int64"
      ]
     },
     "execution_count": 143,
     "metadata": {},
     "output_type": "execute_result"
    }
   ],
   "source": [
    "# Separate majority and minority classes\n",
    "features_data_majority = features_data[features_data.churn_label==0]\n",
    "features_data_minority = features_data[features_data.churn_label==1]\n",
    " \n",
    "# Upsample minority class\n",
    "features_data_minority_upsampled = resample(features_data_minority, \n",
    "                                 replace=True,     # sample with replacement\n",
    "                                 n_samples=5309,    # to match majority class\n",
    "                                 random_state=123) # reproducible results\n",
    " \n",
    "# Combine majority class with upsampled minority class\n",
    "features_data_upsampled = pd.concat([features_data_majority, features_data_minority_upsampled])\n",
    " \n",
    "# Display new class counts\n",
    "features_data = features_data_upsampled\n",
    "features_data_upsampled.churn_label.value_counts()\n"
   ]
  },
  {
   "cell_type": "code",
   "execution_count": 144,
   "metadata": {},
   "outputs": [],
   "source": [
    "y = features_data['churn_label']\n",
    "features = features_data.drop(['churn_label','user_id'],1)"
   ]
  },
  {
   "cell_type": "code",
   "execution_count": 168,
   "metadata": {},
   "outputs": [],
   "source": [
    "x_train, x_test, y_train, y_test = train_test_split(features, y, test_size=0.20, random_state=10)"
   ]
  },
  {
   "cell_type": "code",
   "execution_count": 169,
   "metadata": {},
   "outputs": [],
   "source": [
    "numeric_features = x_train.select_dtypes(include=[np.number]).columns.tolist()\n",
    "categorical_features = x_train.select_dtypes(exclude=[np.number]).columns.tolist()\n",
    "\n",
    "numeric_transformer = Pipeline(steps=[('scaler', StandardScaler())])\n",
    "\n",
    "categorical_transformer = Pipeline(steps=[('onehot', OneHotEncoder(drop='first'))])\n",
    "\n",
    "\n",
    "preprocessor = ColumnTransformer(\n",
    "    transformers=[\n",
    "        ('num', numeric_transformer, numeric_features),\n",
    "        ('cat', categorical_transformer, categorical_features)],\n",
    "    remainder=\"drop\")"
   ]
  },
  {
   "cell_type": "code",
   "execution_count": 170,
   "metadata": {},
   "outputs": [],
   "source": [
    "preprocessor_fit = preprocessor.fit(x_train)\n",
    "x_train = preprocessor_fit.transform(x_train)\n",
    "x_test = preprocessor_fit.transform(x_test)"
   ]
  },
  {
   "cell_type": "code",
   "execution_count": 171,
   "metadata": {},
   "outputs": [
    {
     "name": "stdout",
     "output_type": "stream",
     "text": [
      "[20:28:07] WARNING: /opt/concourse/worker/volumes/live/7a2b9f41-3287-451b-6691-43e9a6c0910f/volume/xgboost-split_1619728204606/work/src/learner.cc:1061: Starting in XGBoost 1.3.0, the default evaluation metric used with the objective 'binary:logistic' was changed from 'error' to 'logloss'. Explicitly set eval_metric if you'd like to restore the old behavior.\n"
     ]
    },
    {
     "data": {
      "text/plain": [
       "XGBClassifier(base_score=0.5, booster='gbtree', colsample_bylevel=1,\n",
       "              colsample_bynode=1, colsample_bytree=1, gamma=0, gpu_id=-1,\n",
       "              importance_type='gain', interaction_constraints='',\n",
       "              learning_rate=0.300000012, max_delta_step=0, max_depth=6,\n",
       "              min_child_weight=1, missing=nan, monotone_constraints='()',\n",
       "              n_estimators=100, n_jobs=12, num_parallel_tree=1, random_state=0,\n",
       "              reg_alpha=0, reg_lambda=1, scale_pos_weight=1, subsample=1,\n",
       "              tree_method='exact', use_label_encoder=False,\n",
       "              validate_parameters=1, verbosity=None)"
      ]
     },
     "execution_count": 171,
     "metadata": {},
     "output_type": "execute_result"
    }
   ],
   "source": [
    "model = XGBClassifier(use_label_encoder=False)\n",
    "model.fit(x_train, y_train)"
   ]
  },
  {
   "cell_type": "code",
   "execution_count": 157,
   "metadata": {},
   "outputs": [
    {
     "name": "stdout",
     "output_type": "stream",
     "text": [
      "[0.0459119  0.0485876  0.05469691 0.0387303  0.04954075 0.03745705\n",
      " 0.04107375 0.03588805 0.06076932 0.05009828 0.06089837 0.07715865\n",
      " 0.04059878 0.05889909 0.01187477 0.09855812 0.03838293 0.01783844\n",
      " 0.03541147 0.         0.02115861 0.03748407 0.03898272]\n"
     ]
    }
   ],
   "source": [
    "print(model.feature_importances_)"
   ]
  },
  {
   "cell_type": "code",
   "execution_count": null,
   "metadata": {},
   "outputs": [],
   "source": []
  },
  {
   "cell_type": "code",
   "execution_count": 158,
   "metadata": {},
   "outputs": [
    {
     "data": {
      "image/png": "[encoded data removed]",
      "text/plain": [
       "<Figure size 432x288 with 1 Axes>"
      ]
     },
     "metadata": {
      "needs_background": "light"
     },
     "output_type": "display_data"
    }
   ],
   "source": [
    "plot_importance(model)\n",
    "pyplot.show()"
   ]
  },
  {
   "cell_type": "markdown",
   "metadata": {},
   "source": [
    "### #Accuracy of the model\n"
   ]
  },
  {
   "cell_type": "code",
   "execution_count": 159,
   "metadata": {},
   "outputs": [
    {
     "name": "stdout",
     "output_type": "stream",
     "text": [
      "              precision    recall  f1-score   support\n",
      "\n",
      "         0.0       0.97      0.94      0.96      1114\n",
      "         1.0       0.94      0.97      0.96      1010\n",
      "\n",
      "    accuracy                           0.96      2124\n",
      "   macro avg       0.96      0.96      0.96      2124\n",
      "weighted avg       0.96      0.96      0.96      2124\n",
      "\n"
     ]
    }
   ],
   "source": [
    "y_predict = model.predict(x_test)\n",
    "from sklearn.metrics import classification_report\n",
    "print(classification_report(y_test, y_predict))"
   ]
  },
  {
   "cell_type": "code",
   "execution_count": 160,
   "metadata": {},
   "outputs": [],
   "source": [
    "tn, fp, fn, tp = confusion_matrix(y_test, y_predict).ravel()"
   ]
  },
  {
   "cell_type": "code",
   "execution_count": 161,
   "metadata": {},
   "outputs": [
    {
     "data": {
      "text/plain": [
       "<sklearn.metrics._plot.roc_curve.RocCurveDisplay at 0x7fa75d0e9250>"
      ]
     },
     "execution_count": 161,
     "metadata": {},
     "output_type": "execute_result"
    },
    {
     "data": {
      "image/png": "[encoded data removed]",
      "text/plain": [
       "<Figure size 432x288 with 1 Axes>"
      ]
     },
     "metadata": {
      "needs_background": "light"
     },
     "output_type": "display_data"
    }
   ],
   "source": [
    "metrics.plot_roc_curve(model, x_test, y_test)  "
   ]
  },
  {
   "cell_type": "markdown",
   "metadata": {},
   "source": [
    "### Predictions for all users"
   ]
  },
  {
   "cell_type": "code",
   "execution_count": 177,
   "metadata": {},
   "outputs": [
    {
     "data": {
      "text/html": [
       "<div>\n",
       "<style scoped>\n",
       "    .dataframe tbody tr th:only-of-type {\n",
       "        vertical-align: middle;\n",
       "    }\n",
       "\n",
       "    .dataframe tbody tr th {\n",
       "        vertical-align: top;\n",
       "    }\n",
       "\n",
       "    .dataframe thead th {\n",
       "        text-align: right;\n",
       "    }\n",
       "</style>\n",
       "<table border=\"1\" class=\"dataframe\">\n",
       "  <thead>\n",
       "    <tr style=\"text-align: right;\">\n",
       "      <th></th>\n",
       "      <th>user_id</th>\n",
       "      <th>predictions</th>\n",
       "    </tr>\n",
       "  </thead>\n",
       "  <tbody>\n",
       "    <tr>\n",
       "      <th>0</th>\n",
       "      <td>895044c23edc821881e87da749c01034</td>\n",
       "      <td>0</td>\n",
       "    </tr>\n",
       "    <tr>\n",
       "      <th>1</th>\n",
       "      <td>458b1d95441ced242949deefe8e4b638</td>\n",
       "      <td>0</td>\n",
       "    </tr>\n",
       "    <tr>\n",
       "      <th>2</th>\n",
       "      <td>c7936f653d293479e034865db9bb932f</td>\n",
       "      <td>0</td>\n",
       "    </tr>\n",
       "    <tr>\n",
       "      <th>3</th>\n",
       "      <td>b255d4bd6c9ba194d3a350b3e76c6393</td>\n",
       "      <td>0</td>\n",
       "    </tr>\n",
       "    <tr>\n",
       "      <th>4</th>\n",
       "      <td>4a168225e89375b8de605cbc0977ae91</td>\n",
       "      <td>0</td>\n",
       "    </tr>\n",
       "    <tr>\n",
       "      <th>...</th>\n",
       "      <td>...</td>\n",
       "      <td>...</td>\n",
       "    </tr>\n",
       "    <tr>\n",
       "      <th>361</th>\n",
       "      <td>5b284610a2d273aaee00e38779136101</td>\n",
       "      <td>1</td>\n",
       "    </tr>\n",
       "    <tr>\n",
       "      <th>1488</th>\n",
       "      <td>438340f3612614e3772bed49aaf12dff</td>\n",
       "      <td>1</td>\n",
       "    </tr>\n",
       "    <tr>\n",
       "      <th>3119</th>\n",
       "      <td>15712a490a2f4d1c73188de8dbde34d9</td>\n",
       "      <td>1</td>\n",
       "    </tr>\n",
       "    <tr>\n",
       "      <th>400</th>\n",
       "      <td>99351e26205e5a0688310b8878675a24</td>\n",
       "      <td>1</td>\n",
       "    </tr>\n",
       "    <tr>\n",
       "      <th>3294</th>\n",
       "      <td>d78228aea77a79c60c2cde37a4e20748</td>\n",
       "      <td>1</td>\n",
       "    </tr>\n",
       "  </tbody>\n",
       "</table>\n",
       "<p>10618 rows × 2 columns</p>\n",
       "</div>"
      ],
      "text/plain": [
       "                               user_id  predictions\n",
       "0     895044c23edc821881e87da749c01034            0\n",
       "1     458b1d95441ced242949deefe8e4b638            0\n",
       "2     c7936f653d293479e034865db9bb932f            0\n",
       "3     b255d4bd6c9ba194d3a350b3e76c6393            0\n",
       "4     4a168225e89375b8de605cbc0977ae91            0\n",
       "...                                ...          ...\n",
       "361   5b284610a2d273aaee00e38779136101            1\n",
       "1488  438340f3612614e3772bed49aaf12dff            1\n",
       "3119  15712a490a2f4d1c73188de8dbde34d9            1\n",
       "400   99351e26205e5a0688310b8878675a24            1\n",
       "3294  d78228aea77a79c60c2cde37a4e20748            1\n",
       "\n",
       "[10618 rows x 2 columns]"
      ]
     },
     "execution_count": 177,
     "metadata": {},
     "output_type": "execute_result"
    }
   ],
   "source": [
    "\n",
    "input_data = preprocessor_fit.transform(features)\n",
    "predictions = model.predict(input_data)\n",
    "features_data['predictions'] = predictions\n",
    "features_data[['user_id','predictions']]"
   ]
  },
  {
   "cell_type": "markdown",
   "metadata": {},
   "source": [
    "## c)Important features"
   ]
  },
  {
   "cell_type": "code",
   "execution_count": 162,
   "metadata": {},
   "outputs": [],
   "source": [
    "onehot_columns = list(preprocessor.named_transformers_['cat'].named_steps['onehot'].get_feature_names(input_features=categorical_features))"
   ]
  },
  {
   "cell_type": "code",
   "execution_count": 163,
   "metadata": {},
   "outputs": [
    {
     "data": {
      "text/plain": [
       "['time_spent',\n",
       " 'first_deposit_amount',\n",
       " 'risk_tolerance_low_risk_tolerance',\n",
       " 'risk_tolerance_med_risk_tolerance',\n",
       " 'investment_experience_good_investment_exp',\n",
       " 'investment_experience_limited_investment_exp',\n",
       " 'investment_experience_no_investment_exp',\n",
       " 'liquidity_needs_somewhat_important_liq_need',\n",
       " 'liquidity_needs_very_important_liq_need',\n",
       " 'platform_both',\n",
       " 'platform_iOS',\n",
       " 'instrument_type_first_traded_adr',\n",
       " 'instrument_type_first_traded_cef',\n",
       " 'instrument_type_first_traded_etp',\n",
       " 'instrument_type_first_traded_lp',\n",
       " 'instrument_type_first_traded_mlp',\n",
       " 'instrument_type_first_traded_reit',\n",
       " 'instrument_type_first_traded_rlt',\n",
       " 'instrument_type_first_traded_stock',\n",
       " 'instrument_type_first_traded_tracking',\n",
       " 'instrument_type_first_traded_wrt',\n",
       " 'time_horizon_med_time_horizon',\n",
       " 'time_horizon_short_time_horizon']"
      ]
     },
     "execution_count": 163,
     "metadata": {},
     "output_type": "execute_result"
    }
   ],
   "source": [
    "numeric_features.extend(onehot_columns)\n",
    "numeric_features"
   ]
  },
  {
   "cell_type": "code",
   "execution_count": 164,
   "metadata": {},
   "outputs": [
    {
     "data": {
      "text/plain": [
       "LogisticRegression(class_weight='balanced', max_iter=1000)"
      ]
     },
     "execution_count": 164,
     "metadata": {},
     "output_type": "execute_result"
    }
   ],
   "source": [
    "model = LogisticRegression(solver='lbfgs', class_weight='balanced', penalty='l2', max_iter = 1000)\n",
    "model.fit(x_train, y_train)"
   ]
  },
  {
   "cell_type": "code",
   "execution_count": 165,
   "metadata": {},
   "outputs": [
    {
     "name": "stdout",
     "output_type": "stream",
     "text": [
      "              precision    recall  f1-score   support\n",
      "\n",
      "         0.0       0.60      0.61      0.61      1114\n",
      "         1.0       0.57      0.56      0.56      1010\n",
      "\n",
      "    accuracy                           0.59      2124\n",
      "   macro avg       0.59      0.58      0.58      2124\n",
      "weighted avg       0.59      0.59      0.59      2124\n",
      "\n"
     ]
    }
   ],
   "source": [
    "y_predict = model.predict(x_test)\n",
    "from sklearn.metrics import classification_report\n",
    "print(classification_report(y_test, y_predict))"
   ]
  },
  {
   "cell_type": "code",
   "execution_count": 166,
   "metadata": {},
   "outputs": [
    {
     "data": {
      "text/plain": [
       "<sklearn.metrics._plot.roc_curve.RocCurveDisplay at 0x7fa75d6ca280>"
      ]
     },
     "execution_count": 166,
     "metadata": {},
     "output_type": "execute_result"
    },
    {
     "data": {
      "image/png": "[encoded data removed]",
      "text/plain": [
       "<Figure size 432x288 with 1 Axes>"
      ]
     },
     "metadata": {
      "needs_background": "light"
     },
     "output_type": "display_data"
    }
   ],
   "source": [
    "metrics.plot_roc_curve(model, x_test, y_test)  "
   ]
  },
  {
   "cell_type": "code",
   "execution_count": 167,
   "metadata": {},
   "outputs": [
    {
     "data": {
      "text/html": [
       "\n",
       "    <style>\n",
       "    table.eli5-weights tr:hover {\n",
       "        filter: brightness(85%);\n",
       "    }\n",
       "</style>\n",
       "\n",
       "\n",
       "\n",
       "    \n",
       "\n",
       "    \n",
       "\n",
       "    \n",
       "\n",
       "    \n",
       "\n",
       "    \n",
       "\n",
       "    \n",
       "\n",
       "\n",
       "    \n",
       "\n",
       "    \n",
       "\n",
       "    \n",
       "\n",
       "    \n",
       "        \n",
       "\n",
       "    \n",
       "\n",
       "        \n",
       "            \n",
       "                \n",
       "                \n",
       "    \n",
       "        <p style=\"margin-bottom: 0.5em; margin-top: 0em\">\n",
       "            <b>\n",
       "    \n",
       "        y=1.0\n",
       "    \n",
       "</b>\n",
       "\n",
       "top features\n",
       "        </p>\n",
       "    \n",
       "    <table class=\"eli5-weights\"\n",
       "           style=\"border-collapse: collapse; border: none; margin-top: 0em; table-layout: auto; margin-bottom: 2em;\">\n",
       "        <thead>\n",
       "        <tr style=\"border: none;\">\n",
       "            \n",
       "                <th style=\"padding: 0 1em 0 0.5em; text-align: right; border: none;\" title=\"Feature weights. Note that weights do not account for feature value scales, so if feature values have different scales, features with highest weights might not be the most important.\">\n",
       "                    Weight<sup>?</sup>\n",
       "                </th>\n",
       "            \n",
       "            <th style=\"padding: 0 0.5em 0 0.5em; text-align: left; border: none;\">Feature</th>\n",
       "            \n",
       "        </tr>\n",
       "        </thead>\n",
       "        <tbody>\n",
       "        \n",
       "            <tr style=\"background-color: hsl(120, 100.00%, 83.80%); border: none;\">\n",
       "    <td style=\"padding: 0 1em 0 0.5em; text-align: right; border: none;\">\n",
       "        +1.076\n",
       "    </td>\n",
       "    <td style=\"padding: 0 0.5em 0 0.5em; text-align: left; border: none;\">\n",
       "        risk_tolerance_low_risk_tolerance\n",
       "    </td>\n",
       "    \n",
       "</tr>\n",
       "        \n",
       "            <tr style=\"background-color: hsl(120, 100.00%, 87.20%); border: none;\">\n",
       "    <td style=\"padding: 0 1em 0 0.5em; text-align: right; border: none;\">\n",
       "        +0.768\n",
       "    </td>\n",
       "    <td style=\"padding: 0 0.5em 0 0.5em; text-align: left; border: none;\">\n",
       "        instrument_type_first_traded_wrt\n",
       "    </td>\n",
       "    \n",
       "</tr>\n",
       "        \n",
       "            <tr style=\"background-color: hsl(120, 100.00%, 88.52%); border: none;\">\n",
       "    <td style=\"padding: 0 1em 0 0.5em; text-align: right; border: none;\">\n",
       "        +0.657\n",
       "    </td>\n",
       "    <td style=\"padding: 0 0.5em 0 0.5em; text-align: left; border: none;\">\n",
       "        instrument_type_first_traded_lp\n",
       "    </td>\n",
       "    \n",
       "</tr>\n",
       "        \n",
       "            <tr style=\"background-color: hsl(120, 100.00%, 91.04%); border: none;\">\n",
       "    <td style=\"padding: 0 1em 0 0.5em; text-align: right; border: none;\">\n",
       "        +0.462\n",
       "    </td>\n",
       "    <td style=\"padding: 0 0.5em 0 0.5em; text-align: left; border: none;\">\n",
       "        risk_tolerance_med_risk_tolerance\n",
       "    </td>\n",
       "    \n",
       "</tr>\n",
       "        \n",
       "            <tr style=\"background-color: hsl(120, 100.00%, 94.07%); border: none;\">\n",
       "    <td style=\"padding: 0 1em 0 0.5em; text-align: right; border: none;\">\n",
       "        +0.256\n",
       "    </td>\n",
       "    <td style=\"padding: 0 0.5em 0 0.5em; text-align: left; border: none;\">\n",
       "        platform_both\n",
       "    </td>\n",
       "    \n",
       "</tr>\n",
       "        \n",
       "            <tr style=\"background-color: hsl(120, 100.00%, 94.24%); border: none;\">\n",
       "    <td style=\"padding: 0 1em 0 0.5em; text-align: right; border: none;\">\n",
       "        +0.245\n",
       "    </td>\n",
       "    <td style=\"padding: 0 0.5em 0 0.5em; text-align: left; border: none;\">\n",
       "        instrument_type_first_traded_etp\n",
       "    </td>\n",
       "    \n",
       "</tr>\n",
       "        \n",
       "            <tr style=\"background-color: hsl(120, 100.00%, 94.79%); border: none;\">\n",
       "    <td style=\"padding: 0 1em 0 0.5em; text-align: right; border: none;\">\n",
       "        +0.213\n",
       "    </td>\n",
       "    <td style=\"padding: 0 0.5em 0 0.5em; text-align: left; border: none;\">\n",
       "        instrument_type_first_traded_cef\n",
       "    </td>\n",
       "    \n",
       "</tr>\n",
       "        \n",
       "            <tr style=\"background-color: hsl(120, 100.00%, 95.02%); border: none;\">\n",
       "    <td style=\"padding: 0 1em 0 0.5em; text-align: right; border: none;\">\n",
       "        +0.199\n",
       "    </td>\n",
       "    <td style=\"padding: 0 0.5em 0 0.5em; text-align: left; border: none;\">\n",
       "        investment_experience_limited_investment_exp\n",
       "    </td>\n",
       "    \n",
       "</tr>\n",
       "        \n",
       "            <tr style=\"background-color: hsl(120, 100.00%, 95.55%); border: none;\">\n",
       "    <td style=\"padding: 0 1em 0 0.5em; text-align: right; border: none;\">\n",
       "        +0.170\n",
       "    </td>\n",
       "    <td style=\"padding: 0 0.5em 0 0.5em; text-align: left; border: none;\">\n",
       "        instrument_type_first_traded_mlp\n",
       "    </td>\n",
       "    \n",
       "</tr>\n",
       "        \n",
       "            <tr style=\"background-color: hsl(120, 100.00%, 95.90%); border: none;\">\n",
       "    <td style=\"padding: 0 1em 0 0.5em; text-align: right; border: none;\">\n",
       "        +0.151\n",
       "    </td>\n",
       "    <td style=\"padding: 0 0.5em 0 0.5em; text-align: left; border: none;\">\n",
       "        investment_experience_no_investment_exp\n",
       "    </td>\n",
       "    \n",
       "</tr>\n",
       "        \n",
       "            <tr style=\"background-color: hsl(120, 100.00%, 97.55%); border: none;\">\n",
       "    <td style=\"padding: 0 1em 0 0.5em; text-align: right; border: none;\">\n",
       "        +0.073\n",
       "    </td>\n",
       "    <td style=\"padding: 0 0.5em 0 0.5em; text-align: left; border: none;\">\n",
       "        instrument_type_first_traded_adr\n",
       "    </td>\n",
       "    \n",
       "</tr>\n",
       "        \n",
       "            <tr style=\"background-color: hsl(120, 100.00%, 98.62%); border: none;\">\n",
       "    <td style=\"padding: 0 1em 0 0.5em; text-align: right; border: none;\">\n",
       "        +0.032\n",
       "    </td>\n",
       "    <td style=\"padding: 0 0.5em 0 0.5em; text-align: left; border: none;\">\n",
       "        investment_experience_good_investment_exp\n",
       "    </td>\n",
       "    \n",
       "</tr>\n",
       "        \n",
       "            <tr style=\"background-color: hsl(120, 100.00%, 99.18%); border: none;\">\n",
       "    <td style=\"padding: 0 1em 0 0.5em; text-align: right; border: none;\">\n",
       "        +0.015\n",
       "    </td>\n",
       "    <td style=\"padding: 0 0.5em 0 0.5em; text-align: left; border: none;\">\n",
       "        instrument_type_first_traded_stock\n",
       "    </td>\n",
       "    \n",
       "</tr>\n",
       "        \n",
       "        \n",
       "\n",
       "        \n",
       "        \n",
       "            <tr style=\"background-color: hsl(0, 100.00%, 99.15%); border: none;\">\n",
       "    <td style=\"padding: 0 1em 0 0.5em; text-align: right; border: none;\">\n",
       "        -0.016\n",
       "    </td>\n",
       "    <td style=\"padding: 0 0.5em 0 0.5em; text-align: left; border: none;\">\n",
       "        time_spent\n",
       "    </td>\n",
       "    \n",
       "</tr>\n",
       "        \n",
       "            <tr style=\"background-color: hsl(0, 100.00%, 98.26%); border: none;\">\n",
       "    <td style=\"padding: 0 1em 0 0.5em; text-align: right; border: none;\">\n",
       "        -0.044\n",
       "    </td>\n",
       "    <td style=\"padding: 0 0.5em 0 0.5em; text-align: left; border: none;\">\n",
       "        time_horizon_short_time_horizon\n",
       "    </td>\n",
       "    \n",
       "</tr>\n",
       "        \n",
       "            <tr style=\"background-color: hsl(0, 100.00%, 96.10%); border: none;\">\n",
       "    <td style=\"padding: 0 1em 0 0.5em; text-align: right; border: none;\">\n",
       "        -0.141\n",
       "    </td>\n",
       "    <td style=\"padding: 0 0.5em 0 0.5em; text-align: left; border: none;\">\n",
       "        liquidity_needs_somewhat_important_liq_need\n",
       "    </td>\n",
       "    \n",
       "</tr>\n",
       "        \n",
       "            <tr style=\"background-color: hsl(0, 100.00%, 95.90%); border: none;\">\n",
       "    <td style=\"padding: 0 1em 0 0.5em; text-align: right; border: none;\">\n",
       "        -0.151\n",
       "    </td>\n",
       "    <td style=\"padding: 0 0.5em 0 0.5em; text-align: left; border: none;\">\n",
       "        time_horizon_med_time_horizon\n",
       "    </td>\n",
       "    \n",
       "</tr>\n",
       "        \n",
       "            <tr style=\"background-color: hsl(0, 100.00%, 94.07%); border: none;\">\n",
       "    <td style=\"padding: 0 1em 0 0.5em; text-align: right; border: none;\">\n",
       "        -0.256\n",
       "    </td>\n",
       "    <td style=\"padding: 0 0.5em 0 0.5em; text-align: left; border: none;\">\n",
       "        platform_iOS\n",
       "    </td>\n",
       "    \n",
       "</tr>\n",
       "        \n",
       "            <tr style=\"background-color: hsl(0, 100.00%, 93.99%); border: none;\">\n",
       "    <td style=\"padding: 0 1em 0 0.5em; text-align: right; border: none;\">\n",
       "        -0.261\n",
       "    </td>\n",
       "    <td style=\"padding: 0 0.5em 0 0.5em; text-align: left; border: none;\">\n",
       "        first_deposit_amount\n",
       "    </td>\n",
       "    \n",
       "</tr>\n",
       "        \n",
       "            <tr style=\"background-color: hsl(0, 100.00%, 93.31%); border: none;\">\n",
       "    <td style=\"padding: 0 1em 0 0.5em; text-align: right; border: none;\">\n",
       "        -0.304\n",
       "    </td>\n",
       "    <td style=\"padding: 0 0.5em 0 0.5em; text-align: left; border: none;\">\n",
       "        liquidity_needs_very_important_liq_need\n",
       "    </td>\n",
       "    \n",
       "</tr>\n",
       "        \n",
       "            <tr style=\"background-color: hsl(0, 100.00%, 91.01%); border: none;\">\n",
       "    <td style=\"padding: 0 1em 0 0.5em; text-align: right; border: none;\">\n",
       "        -0.464\n",
       "    </td>\n",
       "    <td style=\"padding: 0 0.5em 0 0.5em; text-align: left; border: none;\">\n",
       "        instrument_type_first_traded_tracking\n",
       "    </td>\n",
       "    \n",
       "</tr>\n",
       "        \n",
       "            <tr style=\"background-color: hsl(0, 100.00%, 84.61%); border: none;\">\n",
       "    <td style=\"padding: 0 1em 0 0.5em; text-align: right; border: none;\">\n",
       "        -1.000\n",
       "    </td>\n",
       "    <td style=\"padding: 0 0.5em 0 0.5em; text-align: left; border: none;\">\n",
       "        instrument_type_first_traded_reit\n",
       "    </td>\n",
       "    \n",
       "</tr>\n",
       "        \n",
       "            <tr style=\"background-color: hsl(0, 100.00%, 80.00%); border: none;\">\n",
       "    <td style=\"padding: 0 1em 0 0.5em; text-align: right; border: none;\">\n",
       "        -1.453\n",
       "    </td>\n",
       "    <td style=\"padding: 0 0.5em 0 0.5em; text-align: left; border: none;\">\n",
       "        instrument_type_first_traded_rlt\n",
       "    </td>\n",
       "    \n",
       "</tr>\n",
       "        \n",
       "\n",
       "        </tbody>\n",
       "    </table>\n",
       "\n",
       "            \n",
       "        \n",
       "\n",
       "        \n",
       "\n",
       "\n",
       "\n",
       "    \n",
       "\n",
       "    \n",
       "\n",
       "    \n",
       "\n",
       "    \n",
       "\n",
       "\n",
       "    \n",
       "\n",
       "    \n",
       "\n",
       "    \n",
       "\n",
       "    \n",
       "\n",
       "    \n",
       "\n",
       "    \n",
       "\n",
       "\n",
       "    \n",
       "\n",
       "    \n",
       "\n",
       "    \n",
       "\n",
       "    \n",
       "\n",
       "    \n",
       "\n",
       "    \n",
       "\n",
       "\n",
       "\n"
      ],
      "text/plain": [
       "Explanation(estimator=\"LogisticRegression(class_weight='balanced', max_iter=1000)\", description=\"\\nFeatures with largest coefficients.\\nCaveats:\\n1. Be careful with features which are not\\n   independent - weights don't show their importance.\\n2. If scale of input features is different then scale of coefficients\\n   will also be different, making direct comparison between coefficient values\\n   incorrect.\\n3. Depending on regularization, rare features sometimes may have high\\n   coefficients; this doesn't mean they contribute much to the\\n   classification result for most examples.\\n\", error=None, method='linear model', is_regression=False, targets=[TargetExplanation(target=1.0, feature_weights=FeatureWeights(pos=[FeatureWeight(feature='risk_tolerance_low_risk_tolerance', weight=1.0756874518691817, std=None, value=None), FeatureWeight(feature='instrument_type_first_traded_wrt', weight=0.7683182431881465, std=None, value=None), FeatureWeight(feature='instrument_type_first_traded_lp', weight=0.6573321574789762, std=None, value=None), FeatureWeight(feature='risk_tolerance_med_risk_tolerance', weight=0.46165245899876156, std=None, value=None), FeatureWeight(feature='platform_both', weight=0.25581105172916263, std=None, value=None), FeatureWeight(feature='instrument_type_first_traded_etp', weight=0.24544316395905305, std=None, value=None), FeatureWeight(feature='instrument_type_first_traded_cef', weight=0.21252964649068343, std=None, value=None), FeatureWeight(feature='investment_experience_limited_investment_exp', weight=0.1994738941692521, std=None, value=None), FeatureWeight(feature='instrument_type_first_traded_mlp', weight=0.16961123886367413, std=None, value=None), FeatureWeight(feature='investment_experience_no_investment_exp', weight=0.1509899303362518, std=None, value=None), FeatureWeight(feature='instrument_type_first_traded_adr', weight=0.07251966779358497, std=None, value=None), FeatureWeight(feature='investment_experience_good_investment_exp', weight=0.031727013807511285, std=None, value=None), FeatureWeight(feature='instrument_type_first_traded_stock', weight=0.015024845750404622, std=None, value=None)], neg=[FeatureWeight(feature='instrument_type_first_traded_rlt', weight=-1.453007223156648, std=None, value=None), FeatureWeight(feature='instrument_type_first_traded_reit', weight=-0.9996216462540883, std=None, value=None), FeatureWeight(feature='instrument_type_first_traded_tracking', weight=-0.46366313454312363, std=None, value=None), FeatureWeight(feature='liquidity_needs_very_important_liq_need', weight=-0.30411389697095564, std=None, value=None), FeatureWeight(feature='first_deposit_amount', weight=-0.26057257183609783, std=None, value=None), FeatureWeight(feature='platform_iOS', weight=-0.25576360904481693, std=None, value=None), FeatureWeight(feature='time_horizon_med_time_horizon', weight=-0.1511917082208083, std=None, value=None), FeatureWeight(feature='liquidity_needs_somewhat_important_liq_need', weight=-0.14078962216423807, std=None, value=None), FeatureWeight(feature='time_horizon_short_time_horizon', weight=-0.044403968030145284, std=None, value=None), FeatureWeight(feature='time_spent', weight=-0.01604000539098951, std=None, value=None)], pos_remaining=0, neg_remaining=0), proba=None, score=None, weighted_spans=None, heatmap=None)], feature_importances=None, decision_tree=None, highlight_spaces=None, transition_features=None, image=None)"
      ]
     },
     "execution_count": 167,
     "metadata": {},
     "output_type": "execute_result"
    }
   ],
   "source": [
    "import eli5\n",
    "eli5.explain_weights(model, top=50, feature_names=numeric_features, feature_filter=lambda x: x != '<BIAS>')"
   ]
  },
  {
   "cell_type": "code",
   "execution_count": null,
   "metadata": {},
   "outputs": [],
   "source": []
  }
 ],
 "metadata": {
  "kernelspec": {
   "display_name": "Python 3",
   "language": "python",
   "name": "python3"
  },
  "language_info": {
   "codemirror_mode": {
    "name": "ipython",
    "version": 3
   },
   "file_extension": ".py",
   "mimetype": "text/x-python",
   "name": "python",
   "nbconvert_exporter": "python",
   "pygments_lexer": "ipython3",
   "version": "3.8.5"
  }
 },
 "nbformat": 4,
 "nbformat_minor": 4
}
